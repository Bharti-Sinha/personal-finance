{
 "cells": [
  {
   "cell_type": "markdown",
   "id": "dd7c4c87",
   "metadata": {},
   "source": [
    "# Basic Agentic RAG"
   ]
  },
  {
   "cell_type": "markdown",
   "id": "877df988",
   "metadata": {},
   "source": [
    "The Router leverages three CSV files to understand the user's financial data:\n",
    "\n",
    "| Data Source | Description |\n",
    "|---|---|\n",
    "| Income.csv | Records income streams and their values (e.g., salary, investments, rental income). |\n",
    "| Expenses.csv | Tracks monthly expenditures categorized by source (e.g., rent, utilities, groceries). |\n",
    "| Savings.csv | Stores data on different savings sources and their monthly amounts (e.g., emergency fund, retirement savings). |\n",
    "\n",
    "**Query Engines:**\n",
    "\n",
    "The Router interacts with two primary query engines:\n",
    "\n",
    "* **Vector Search and Retrieval:** This engine retrieves documents relevant to the user's query by analyzing the semantic similarity between the query and documents in the index. This is ideal for finding specific information within the data.\n",
    "* **Summarization:** This engine provides a concise summary of all documents within the index. This is useful for getting a high-level overview of the data.\n",
    "\n",
    "**Query Processing:**\n",
    "\n",
    "The Router analyzes the user's query and the data available in the CSV files to determine the most suitable query engine:\n",
    "\n",
    "* If the query seeks specific details within the data (e.g., \"What was my total income from freelancing last month?\"), the router routes the query to the vector search and retrieval engine.\n",
    "* If the query requires a general overview of the data (e.g., \"Provide a summary of my income, expenses, and savings for the past year\"), the Router directs the query to the summarization engine.\n",
    "\n",
    "This approach ensures that the user receives the most relevant and efficient execution based on their intended purpose.\n",
    "\n",
    "**Next Steps:**\n",
    "\n",
    "In the following sections, we will delve deeper into the implementation details of the Router agent and how it interacts with the query engines and data sources."
   ]
  },
  {
   "cell_type": "markdown",
   "id": "357c97c9",
   "metadata": {},
   "source": [
    "## Setup"
   ]
  },
  {
   "cell_type": "code",
   "execution_count": 3,
   "id": "d2650766-1004-4ece-a818-e8a561372b39",
   "metadata": {},
   "outputs": [],
   "source": [
    "import os\n",
    "from dotenv import load_dotenv, find_dotenv"
   ]
  },
  {
   "cell_type": "code",
   "execution_count": 4,
   "id": "ab5f4f4a-5890-451c-8869-24606ef9f396",
   "metadata": {
    "tags": []
   },
   "outputs": [],
   "source": [
    "_ = load_dotenv(find_dotenv())\n",
    "OPENAI_API_KEY = os.getenv(\"OPENAI_API_KEY\")"
   ]
  },
  {
   "cell_type": "code",
   "execution_count": null,
   "id": "6162f13e-8c4f-42c1-9aa4-e5eb0b09156c",
   "metadata": {},
   "outputs": [],
   "source": []
  },
  {
   "cell_type": "code",
   "execution_count": 6,
   "id": "ffc9b4f4-64d4-4266-9889-54db90e00ee9",
   "metadata": {
    "tags": []
   },
   "outputs": [],
   "source": [
    "import nest_asyncio\n",
    "nest_asyncio.apply()"
   ]
  },
  {
   "cell_type": "markdown",
   "id": "49fca250",
   "metadata": {},
   "source": [
    "## Load Data"
   ]
  },
  {
   "cell_type": "markdown",
   "id": "f3ae2a8c",
   "metadata": {
    "tags": []
   },
   "source": [
    "_Steps before loading the documents using CSV reader_ \n",
    "\n",
    "- Create a folder called \"data\" in the current directory.\n",
    "- Upload your expenses.csv, income.csv and savings.csv"
   ]
  },
  {
   "cell_type": "code",
   "execution_count": 7,
   "id": "5c7f012d-dcd3-4881-a568-72dd27d79159",
   "metadata": {
    "tags": []
   },
   "outputs": [],
   "source": [
    "# Load documents\n",
    "from llama_index.core import SimpleDirectoryReader\n",
    "from llama_index.readers.file import CSVReader"
   ]
  },
  {
   "cell_type": "code",
   "execution_count": null,
   "id": "3f0ddf96-8580-4d62-ba11-0b646d2c171f",
   "metadata": {},
   "outputs": [],
   "source": []
  },
  {
   "cell_type": "code",
   "execution_count": 8,
   "id": "c782e846-6ae9-4ca2-a3b8-ad11efea5764",
   "metadata": {},
   "outputs": [],
   "source": [
    "# CSV Reader example\n",
    "parser = CSVReader()\n",
    "file_extractor = {\".csv\": parser} \n",
    "\n",
    "documents = SimpleDirectoryReader(\n",
    "            \"./data\", file_extractor=file_extractor\n",
    "                ).load_data()"
   ]
  },
  {
   "cell_type": "code",
   "execution_count": 9,
   "id": "67f19826-0fea-4e4d-92bc-f2d2b03fcf1b",
   "metadata": {},
   "outputs": [
    {
     "data": {
      "text/plain": [
       "3"
      ]
     },
     "execution_count": 9,
     "metadata": {},
     "output_type": "execute_result"
    }
   ],
   "source": [
    "# check how many files were read\n",
    "len(documents)"
   ]
  },
  {
   "cell_type": "code",
   "execution_count": 10,
   "id": "f2c77d04-3c2d-4aef-9995-1e08d2444549",
   "metadata": {},
   "outputs": [],
   "source": [
    "# Check all file names\n",
    "file_names = [doc.metadata['filename'] for doc in documents ]"
   ]
  },
  {
   "cell_type": "code",
   "execution_count": 11,
   "id": "ec0d34cc-adeb-407c-b81b-fec91a90ebee",
   "metadata": {},
   "outputs": [
    {
     "data": {
      "text/plain": [
       "['Expenses.csv', 'Income.csv', 'Savings.csv']"
      ]
     },
     "execution_count": 11,
     "metadata": {},
     "output_type": "execute_result"
    }
   ],
   "source": [
    "file_names"
   ]
  },
  {
   "cell_type": "code",
   "execution_count": 12,
   "id": "4077f0f4-fc7d-4bd1-8105-714c6ec79ec6",
   "metadata": {},
   "outputs": [
    {
     "data": {
      "text/plain": [
       "Document(id_='e31eb70d-549a-45d2-8683-2d44ca3e5f0f', embedding=None, metadata={'filename': 'Savings.csv', 'extension': '.csv', 'file_path': '/Users/bhartisinha/Downloads/RAGAgentic/data/Savings.csv', 'file_name': 'Savings.csv', 'file_type': 'text/csv', 'file_size': 580, 'creation_date': '2024-05-26', 'last_modified_date': '2024-05-26'}, excluded_embed_metadata_keys=['file_name', 'file_type', 'file_size', 'creation_date', 'last_modified_date', 'last_accessed_date'], excluded_llm_metadata_keys=['file_name', 'file_type', 'file_size', 'creation_date', 'last_modified_date', 'last_accessed_date'], relationships={}, text='Savings Type, Month, Saved by, Amount, Description\\nSaved, March, Adam, 1905, 10% of salary\\nSaved, March, Eve, 2172, 10% of Salary\\nSaved, March, Adam, 1956, Common Savings\\nSaved, March, Eve, 816, Common Savings\\nSaved, April, Adam, 1185, 10% of Salary\\nSaved, April, Eve, 1324, 10% of Salary\\nSaved, April, Adam, 2032, Porche Macan\\nSaved, April, Eve, 1797, Porche Macan\\nSaved, April, Eve, 2465, Home deposit\\nSaved, April, Adam, 1609, Common Savings\\nSaved, April, Eve, 1605, Common Savings\\nSaved for a future expense, March, Eve, 1797, Quick loan repayment\\nSaved for a future expense, April, Eve, 135, Quick loan repayment\\n, , , , ', start_char_idx=None, end_char_idx=None, text_template='{metadata_str}\\n\\n{content}', metadata_template='{key}: {value}', metadata_seperator='\\n')"
      ]
     },
     "execution_count": 12,
     "metadata": {},
     "output_type": "execute_result"
    }
   ],
   "source": [
    "# check contents ofa document\n",
    "documents[2]"
   ]
  },
  {
   "cell_type": "code",
   "execution_count": 13,
   "id": "de0660ee-b231-4351-b158-d8ad023e00b5",
   "metadata": {
    "tags": []
   },
   "outputs": [],
   "source": [
    "# perform some general settings, we can change models and embeddings to be used for the project\n",
    "from llama_index.core import Settings\n",
    "from llama_index.llms.openai import OpenAI\n",
    "from llama_index.embeddings.openai import OpenAIEmbedding\n",
    "\n",
    "# Settings.llm = OpenAI(model=\"gpt-3.5-turbo\", api_key=OPENAI_API_KEY)\n",
    "Settings.llm = OpenAI(model=\"gpt-4\", api_key=OPENAI_API_KEY)\n",
    "\n",
    "Settings.embed_model = OpenAIEmbedding(model=\"text-embedding-ada-002\", api_key=OPENAI_API_KEY)"
   ]
  },
  {
   "cell_type": "code",
   "execution_count": null,
   "id": "c86387cb-7ee6-4137-b2d5-cb9c1760d1a1",
   "metadata": {},
   "outputs": [],
   "source": []
  },
  {
   "cell_type": "markdown",
   "id": "997c7559",
   "metadata": {},
   "source": [
    "## Create `Summary Index` and `Vector Index` over our data"
   ]
  },
  {
   "cell_type": "markdown",
   "id": "bd9172e4-78e0-4013-bd6a-4921392ab78d",
   "metadata": {},
   "source": [
    "- Once the documents are read, we need to split the documents into nodes. \n",
    "\n",
    "- Each node contains a chunk of the documents with a unique ID, embeddings, and metadata with information on the file name, format, path and date_modified, data_created and the content within that chunk. \n"
   ]
  },
  {
   "cell_type": "code",
   "execution_count": 14,
   "id": "8a537bc0-78ee-4dda-a43f-60fd80062df6",
   "metadata": {
    "tags": []
   },
   "outputs": [],
   "source": [
    "from llama_index.core.node_parser import SentenceSplitter\n",
    "\n",
    "# The token chunk size for each chunk is 1024\n",
    "splitter = SentenceSplitter(chunk_size=1024)\n",
    "nodes = splitter.get_nodes_from_documents(documents)"
   ]
  },
  {
   "cell_type": "code",
   "execution_count": 15,
   "id": "73d01b01-bc74-432a-8d92-07b9e86498b0",
   "metadata": {
    "tags": []
   },
   "outputs": [],
   "source": [
    "from llama_index.core import SummaryIndex, VectorStoreIndex\n",
    "\n",
    "summary_index = SummaryIndex(nodes)\n",
    "vector_index = VectorStoreIndex(nodes)"
   ]
  },
  {
   "cell_type": "code",
   "execution_count": 16,
   "id": "feb6c92b-df88-433b-b23a-cc31b3709eb4",
   "metadata": {},
   "outputs": [
    {
     "data": {
      "text/plain": [
       "{'bcb3a837-327e-4b59-ada9-6809ef73c725': RefDocInfo(node_ids=['141b9dc5-3028-4ddc-96a5-60f4f6463ca7'], metadata={'filename': 'Expenses.csv', 'extension': '.csv', 'file_path': '/Users/bhartisinha/Downloads/RAGAgentic/data/Expenses.csv', 'file_name': 'Expenses.csv', 'file_type': 'text/csv', 'file_size': 1640, 'creation_date': '2024-05-26', 'last_modified_date': '2024-05-26'}),\n",
       " 'fb488373-bd5b-4413-b43a-28219571e5b4': RefDocInfo(node_ids=['c9257766-f2b5-4392-a62c-68d9027fde51'], metadata={'filename': 'Income.csv', 'extension': '.csv', 'file_path': '/Users/bhartisinha/Downloads/RAGAgentic/data/Income.csv', 'file_name': 'Income.csv', 'file_type': 'text/csv', 'file_size': 361, 'creation_date': '2024-05-26', 'last_modified_date': '2024-05-26'}),\n",
       " 'e31eb70d-549a-45d2-8683-2d44ca3e5f0f': RefDocInfo(node_ids=['a9ac8b2e-79ac-4e95-a052-4faed5dadf5f'], metadata={'filename': 'Savings.csv', 'extension': '.csv', 'file_path': '/Users/bhartisinha/Downloads/RAGAgentic/data/Savings.csv', 'file_name': 'Savings.csv', 'file_type': 'text/csv', 'file_size': 580, 'creation_date': '2024-05-26', 'last_modified_date': '2024-05-26'})}"
      ]
     },
     "execution_count": 16,
     "metadata": {},
     "output_type": "execute_result"
    }
   ],
   "source": [
    "# Get metadata information for all the documents in the index\n",
    "summary_index.ref_doc_info"
   ]
  },
  {
   "cell_type": "markdown",
   "id": "f9898d3f",
   "metadata": {},
   "source": [
    "## Define Query Engines and Query Tools"
   ]
  },
  {
   "cell_type": "markdown",
   "id": "85061647-dbb3-42a8-a24c-81a424ac3827",
   "metadata": {},
   "source": [
    "**Vector query engine**: Querying a vector index returns similar documents based on embedding similarity. \n",
    "\n",
    "**Summary query engine**: Querying a summary index returns all nodes in the index and is independent of the query. \n",
    "\n",
    "These indexes are turned into Query engines and then into tools. Tools are query engines with a description of the tools' purpose. "
   ]
  },
  {
   "cell_type": "code",
   "execution_count": 17,
   "id": "44cd7046-c714-4920-b077-b3ded917862f",
   "metadata": {
    "tags": []
   },
   "outputs": [],
   "source": [
    "summary_query_engine = summary_index.as_query_engine(\n",
    "    response_mode=\"tree_summarize\",\n",
    "    use_async=True,\n",
    ")\n",
    "vector_query_engine = vector_index.as_query_engine()"
   ]
  },
  {
   "cell_type": "code",
   "execution_count": 18,
   "id": "6a1d6d75-247e-426a-8ef4-b49225c24796",
   "metadata": {
    "tags": []
   },
   "outputs": [],
   "source": [
    "from llama_index.core.tools import QueryEngineTool\n",
    "\n",
    "summary_tool = QueryEngineTool.from_defaults(\n",
    "    query_engine=summary_query_engine,\n",
    "    description=(\n",
    "        \"Useful for summarization questions related to incomes, savings and expenses\"\n",
    "    ),\n",
    ")\n",
    "\n",
    "vector_tool = QueryEngineTool.from_defaults(\n",
    "    query_engine=vector_query_engine,\n",
    "    description=(\n",
    "        \"Useful for retrieving specific context from the incomes, savings and expenses tables.\"\n",
    "    ),\n",
    ")"
   ]
  },
  {
   "cell_type": "markdown",
   "id": "8cf4b646-a71e-472f-963e-8a1c58b5868d",
   "metadata": {},
   "source": [
    "- There are two ways to create tools, one is using **QueryEngineTool** from the tools module. This takes in the query engine and its description to transform it into a tool.\n",
    "\n",
    "- Another is **FunctionTool** from the tools module too, which takes any Python function and converts it to a tool to be used by an agent. "
   ]
  },
  {
   "cell_type": "markdown",
   "id": "98d2c152",
   "metadata": {},
   "source": [
    "## Define Router Query Engine"
   ]
  },
  {
   "cell_type": "markdown",
   "id": "385b29d5-7636-4537-86b6-c3716c94f954",
   "metadata": {},
   "source": [
    "- Given a query, a router picks which tool is best for answering that query and then implements that engine. \n",
    "\n",
    "- The router has dynamic query understanding capabilities. \n",
    "\n",
    "- We can choose different selectors to build a router. These selectors have unique attributes and can perform a task in different ways.\n",
    "\n",
    "- The one used here is LLMSingleSelector; which prompts the LLM to output a JSON which is then parsed to query the corresponding index. \n",
    "\n",
    "- Another one is Pydantic Selector which has a function calling APIs of LLMs. \n"
   ]
  },
  {
   "cell_type": "code",
   "execution_count": 19,
   "id": "00734d7c-638a-4d63-ab1f-7f5a92a65119",
   "metadata": {
    "tags": []
   },
   "outputs": [],
   "source": [
    "from llama_index.core.query_engine.router_query_engine import RouterQueryEngine\n",
    "from llama_index.core.selectors import LLMSingleSelector\n",
    "\n",
    "\n",
    "query_engine = RouterQueryEngine(\n",
    "    selector=LLMSingleSelector.from_defaults(),\n",
    "    query_engine_tools=[\n",
    "        summary_tool,\n",
    "        vector_tool,\n",
    "    ],\n",
    "    verbose=True\n",
    ")"
   ]
  },
  {
   "cell_type": "code",
   "execution_count": 20,
   "id": "4731288c-6980-421b-a2b7-262ec59d85f8",
   "metadata": {},
   "outputs": [],
   "source": [
    "# let's check a few basic questions."
   ]
  },
  {
   "cell_type": "code",
   "execution_count": 21,
   "id": "fe3f0a76-68a8-444d-867f-d084bb3ff112",
   "metadata": {
    "tags": []
   },
   "outputs": [
    {
     "name": "stdout",
     "output_type": "stream",
     "text": [
      "\u001b[1;3;38;5;200mSelecting query engine 0: The question asks for a summary of the document, which aligns with the first choice about summarization..\n",
      "\u001b[0mThe document provides a summary of financial data from three different files: Expenses.csv, Income.csv, and Savings.csv. The Expenses.csv file details various types of expenses for the months of March and April 2024, including categories like eating out, entertainment, rent, and utilities, among others. The Income.csv file outlines the income received by two individuals, Adam and Eve, in the same months, from sources such as salary, dividends, and rental income. Lastly, the Savings.csv file shows the amount saved by Adam and Eve in March and April, with details about the purpose of the savings, such as a percentage of salary, common savings, or specific goals like a home deposit or a car.\n"
     ]
    }
   ],
   "source": [
    "response = query_engine.query(\"What is the summary of the document?\")\n",
    "print(str(response))"
   ]
  },
  {
   "cell_type": "markdown",
   "id": "65619f69-12dd-4e98-8288-0887e4b889f4",
   "metadata": {},
   "source": [
    "<span style=\"background-color: yellow;\">Observe how it also displays reasoning behind choosing summary index to answer this query.</span>"
   ]
  },
  {
   "cell_type": "code",
   "execution_count": 22,
   "id": "cf3dcd0f-fb8c-4245-aab6-cdaee067202a",
   "metadata": {},
   "outputs": [
    {
     "name": "stdout",
     "output_type": "stream",
     "text": [
      "\u001b[1;3;38;5;200mSelecting query engine 1: The question requires retrieving specific context from the expenses tables for the months of April and March..\n",
      "\u001b[0mIn April, the expenses were as follows: Eating Out - $182.00, Entertainment - $75.00, Government Process related fees - $1,898.00, Health - $288.00, Payment Plans and Loan Repayments - $541.00, Rent - $2,457.00, Shopping - $443.00, Subscriptions - $56.00, Transport - $305.00, Travel - $446.00, Utilities - $333.00, Groceries - $389.00, and Other - $191.00.\n",
      "\n",
      "In March, the expenses were: Eating Out - $287.00, Entertainment - $219.00, Government Process related fees - $2,204.00, Health - $242.00, Payment Plans and Loan Repayments - $436.00, Rent - $3,393.00, Shopping - $196.00, Subscriptions - $48.00, Transport - $347.00, Travel - $124.00, Utilities - $200.00, Groceries - $241.00, and Other - $214.00. \n",
      "\n",
      "Comparing the two months, it appears that the expenses for most categories were higher in March than in April, with the exception of Health, Payment Plans and Loan Repayments, Rent, Shopping, Travel, Utilities, Groceries, and Other categories where the expenses were higher in April.\n"
     ]
    }
   ],
   "source": [
    "response = query_engine.query(\"Compare expenses of April and March\")\n",
    "print(str(response))"
   ]
  },
  {
   "cell_type": "code",
   "execution_count": 23,
   "id": "69113e5b-7eb8-43d6-9600-051c9e84364d",
   "metadata": {},
   "outputs": [
    {
     "name": "stdout",
     "output_type": "stream",
     "text": [
      "\u001b[1;3;38;5;200mSelecting query engine 1: The question is asking for a specific piece of information (amount spent on groceries in April), which aligns with the description of choice 2 - retrieving specific context from incomes, savings and expenses tables..\n",
      "\u001b[0mThe amount spent on groceries in the month of April is $389.00.\n"
     ]
    }
   ],
   "source": [
    "response = query_engine.query(\"what is the amount spent on groceries in the month of April\")\n",
    "print(str(response))"
   ]
  },
  {
   "cell_type": "code",
   "execution_count": 25,
   "id": "2acc49e5-28fc-4901-ac9d-547d17c0331a",
   "metadata": {},
   "outputs": [
    {
     "name": "stdout",
     "output_type": "stream",
     "text": [
      "\u001b[1;3;38;5;200mSelecting query engine 0: The question is asking for a summary of incomes and expenses for a specific month, which aligns with the first choice about summarization questions related to incomes, savings and expenses..\n",
      "\u001b[0mTo calculate the remaining amount from both incomes after removing expenses for the month of April, we first need to sum up the total income and total expenses for that month.\n",
      "\n",
      "The total income for April is the sum of the following amounts: \n",
      "- Adam's salary: $4049\n",
      "- Adam's dividends: $9510\n",
      "- Eve's salary: $3564\n",
      "- Eve's dividends: $2000\n",
      "- Adam's rental income: $2195\n",
      "- Eve's rental income: $2841\n",
      "\n",
      "This gives a total income of $24159.\n",
      "\n",
      "The total expenses for April are the sum of the following amounts:\n",
      "- Eating Out: $182\n",
      "- Entertainment: $75\n",
      "- Government Process related fees: $1898\n",
      "- Health: $288\n",
      "- Payment Plans and Loan Repayments: $541\n",
      "- Rent: $2457\n",
      "- Shopping: $443\n",
      "- Subscriptions: $56\n",
      "- Transport: $305\n",
      "- Travel: $446\n",
      "- Utilities: $333\n",
      "- Other: $191\n",
      "- Groceries: $389\n",
      "\n",
      "This gives a total expense of $7114.\n",
      "\n",
      "Subtracting the total expenses from the total income ($24159 - $7114), we get a remaining amount of $17045 for the month of April.\n"
     ]
    }
   ],
   "source": [
    "response = query_engine.query(\"How much do we have left from both our incomes after removing expenses for the month of April.\")\n",
    "print(str(response))"
   ]
  },
  {
   "cell_type": "markdown",
   "id": "e3e5e61c-2314-468d-9bc6-63db681c4f4a",
   "metadata": {},
   "source": [
    "<span style=\"background-color: yellow;\">Observe how the numbers were extracted correctly but the sum is incorrect.</span>"
   ]
  },
  {
   "cell_type": "markdown",
   "id": "d7ebf7d0-28b6-4d0d-9414-f73aee1a494e",
   "metadata": {},
   "source": [
    "### Observations and Takeaways"
   ]
  },
  {
   "cell_type": "markdown",
   "id": "3677c245-d6f4-4894-83f5-e40e8a18e532",
   "metadata": {},
   "source": [
    "- The router correctly selects the summary tool when the query requires an answer considering all chunks from our documents.\n",
    "- It selects the vector tool when only a specific context within our documents is required to answer the query.\n",
    "- While it fetches correct information, it produces a sum of expenses incorrectly. This can be handled by defining a tool.\n",
    "\n",
    "Next Features:\n",
    "- Design and implement tools to handle more complex queries. "
   ]
  },
  {
   "cell_type": "code",
   "execution_count": null,
   "id": "6d816a32-89eb-45a0-b9b1-77e03c877d39",
   "metadata": {},
   "outputs": [],
   "source": []
  }
 ],
 "metadata": {
  "kernelspec": {
   "display_name": "Python 3 (ipykernel)",
   "language": "python",
   "name": "python3"
  },
  "language_info": {
   "codemirror_mode": {
    "name": "ipython",
    "version": 3
   },
   "file_extension": ".py",
   "mimetype": "text/x-python",
   "name": "python",
   "nbconvert_exporter": "python",
   "pygments_lexer": "ipython3",
   "version": "3.11.9"
  }
 },
 "nbformat": 4,
 "nbformat_minor": 5
}
